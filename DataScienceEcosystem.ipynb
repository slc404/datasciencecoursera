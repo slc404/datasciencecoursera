{
 "cells": [
  {
   "cell_type": "markdown",
   "id": "06588016-745b-45fa-8f9f-e9070f20cf3a",
   "metadata": {},
   "source": [
    "# Data Science Tools and Ecosystem"
   ]
  },
  {
   "cell_type": "markdown",
   "id": "412214a5-1a5c-459b-8858-d276fc94ab5e",
   "metadata": {},
   "source": [
    "In this notebook, Data Science Tools and Ecosystem are summarized."
   ]
  },
  {
   "cell_type": "markdown",
   "id": "4a53a2e5-7fc1-4c04-86b7-a1ec0206c822",
   "metadata": {},
   "source": [
    "***Objectives:*** \n",
    "- Convert minutes to hours\n",
    "- Demostrate arithmetic\n",
    "- List libraries commonly used by data scientist\n"
   ]
  },
  {
   "cell_type": "markdown",
   "id": "72b7d107-6353-4333-befd-3d84ba840632",
   "metadata": {},
   "source": [
    "Some of the popular languages that Data Scientist use are: \n",
    "1. Python\n",
    "2. R\n",
    "3. SQL\n",
    "4. Julia\n"
   ]
  },
  {
   "cell_type": "markdown",
   "id": "d7986aab-258f-47e8-829e-e6700b8c19d3",
   "metadata": {},
   "source": [
    "\n",
    "|Data Science Tools|\n",
    "|:-------:|\n",
    "Jupyter Notebook\n",
    "Spyter\n",
    "Visual Studio\n"
   ]
  },
  {
   "cell_type": "markdown",
   "id": "b3ef0568-7442-477c-8e0a-9a26c0a3058a",
   "metadata": {},
   "source": [
    "Some of commonly used libraries used by Data Scientist include:\n",
    "1. ggplot\n",
    "2. Dplyr\n",
    "3. Knitr\n",
    "4. Caret\n"
   ]
  },
  {
   "cell_type": "markdown",
   "id": "e96cb06e-6ef5-454b-816e-c6618fcda20f",
   "metadata": {},
   "source": [
    "### Below are a few exmaples of evaluating arithmetic expressions in Python\n",
    "sum = 2 + 3 n\\\n",
    "print(sum) n\\\n",
    "print(3*4) n\\\n",
    "sub = 5 - 3 n\\\n",
    "print(sub)"
   ]
  },
  {
   "cell_type": "code",
   "execution_count": 1,
   "id": "94e93f76-8a73-41b4-9fb9-2e0919c58607",
   "metadata": {},
   "outputs": [
    {
     "data": {
      "text/plain": [
       "17"
      ]
     },
     "execution_count": 1,
     "metadata": {},
     "output_type": "execute_result"
    }
   ],
   "source": [
    "# This a simple arithmetic expression to multiply then add integers.\n",
    "(3*4)+5"
   ]
  },
  {
   "cell_type": "code",
   "execution_count": 2,
   "id": "ae2581a2-cb11-4c1f-ba05-add147ec9da7",
   "metadata": {},
   "outputs": [
    {
     "data": {
      "text/plain": [
       "3.3333333333333335"
      ]
     },
     "execution_count": 2,
     "metadata": {},
     "output_type": "execute_result"
    }
   ],
   "source": [
    "def convert(min):\n",
    "    return (min/60)\n",
    "#This will convert 200 minutes to hours by dividing by 60\n",
    "convert(200)"
   ]
  },
  {
   "cell_type": "markdown",
   "id": "820914a5-ee73-4711-b190-ec576d2b9026",
   "metadata": {},
   "source": [
    "## Author Name\n",
    "Stacy "
   ]
  }
 ],
 "metadata": {
  "kernelspec": {
   "display_name": "Python 3 (ipykernel)",
   "language": "python",
   "name": "python3"
  },
  "language_info": {
   "codemirror_mode": {
    "name": "ipython",
    "version": 3
   },
   "file_extension": ".py",
   "mimetype": "text/x-python",
   "name": "python",
   "nbconvert_exporter": "python",
   "pygments_lexer": "ipython3",
   "version": "3.12.8"
  }
 },
 "nbformat": 4,
 "nbformat_minor": 5
}
